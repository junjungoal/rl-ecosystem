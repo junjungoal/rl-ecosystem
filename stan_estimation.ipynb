{
 "cells": [
  {
   "cell_type": "code",
   "execution_count": 1,
   "metadata": {},
   "outputs": [],
   "source": [
    "import pystan\n",
    "import numpy as np\n",
    "import pylab as p\n",
    "from scipy import integrate\n",
    "import matplotlib.pyplot as plt\n",
    "import seaborn as sns\n",
    "from utils import plot_circle"
   ]
  },
  {
   "cell_type": "code",
   "execution_count": 2,
   "metadata": {},
   "outputs": [
    {
     "name": "stderr",
     "output_type": "stream",
     "text": [
      "INFO:pystan:COMPILING THE C++ CODE FOR MODEL anon_model_4a128733778ce5f23c5393dad014e7e0 NOW.\n"
     ]
    }
   ],
   "source": [
    "lotka_code = \"\"\"\n",
    "functions {\n",
    "  real[] dz_dt(real t,       // time\n",
    "               real[] z,     // system state {prey, predator}\n",
    "               real[] theta, // parameters\n",
    "               real[] x_r,   // unused data\n",
    "               int[] x_i) {\n",
    "    real u = z[1];\n",
    "    real v = z[2];\n",
    "\n",
    "    real alpha = theta[1];\n",
    "    real beta = theta[2];\n",
    "    real gamma = theta[3];\n",
    "    real delta = theta[4];\n",
    "\n",
    "    real du_dt = (alpha - beta * v) * u;\n",
    "    real dv_dt = (-gamma + delta * u) * v;\n",
    "    return { du_dt, dv_dt };\n",
    "  }\n",
    "}\n",
    "data {\n",
    "  int<lower = 0> N;           // number of measurement times\n",
    "  real ts[N];                 // measurement times > 0\n",
    "  real y_init[2];             // initial measured populations\n",
    "  real<lower = 0> y[N, 2];    // measured populations\n",
    "}\n",
    "parameters {\n",
    "  real<lower = 0> theta[4];   // { alpha, beta, gamma, delta }\n",
    "  real<lower = 0> z_init[2];  // initial population\n",
    "  real<lower = 0> sigma[2];   // measurement errors\n",
    "}\n",
    "transformed parameters {\n",
    "  real z[N, 2]\n",
    "    = integrate_ode_rk45(dz_dt, z_init, 0, ts, theta,\n",
    "                         rep_array(0.0, 0), rep_array(0, 0),\n",
    "                         1e-5, 1e-3, 5e2);\n",
    "}\n",
    "model {\n",
    "  theta[{1, 3}] ~ normal(1, 0.5);\n",
    "  theta[{2, 4}] ~ normal(0.05, 0.05);\n",
    "  sigma ~ lognormal(-1, 1);\n",
    "  z_init ~ lognormal(log(10), 1);\n",
    "  for (k in 1:2) {\n",
    "    y_init[k] ~ lognormal(log(z_init[k]), sigma[k]);\n",
    "    y[ , k] ~ lognormal(log(z[, k]), sigma[k]);\n",
    "  }\n",
    "}\n",
    "generated quantities {\n",
    "  real y_init_rep[2];\n",
    "  real y_rep[N, 2];\n",
    "  for (k in 1:2) {\n",
    "    y_init_rep[k] = lognormal_rng(log(z_init[k]), sigma[k]);\n",
    "    for (n in 1:N)\n",
    "      y_rep[n, k] = lognormal_rng(log(z[n, k]), sigma[k]);\n",
    "  }\n",
    "}\n",
    "\"\"\"\n",
    "\n",
    "schools_dat = {'J': 8,\n",
    "               'y': [28,  8, -3,  7, -1,  1, 18, 12],\n",
    "               'sigma': [15, 10, 16, 11,  9, 11, 10, 18]}\n",
    "\n",
    "sm = pystan.StanModel(model_code=lotka_code)"
   ]
  },
  {
   "cell_type": "code",
   "execution_count": 3,
   "metadata": {},
   "outputs": [
    {
     "data": {
      "text/plain": [
       "[<matplotlib.lines.Line2D at 0x7fe1799dc7b8>]"
      ]
     },
     "execution_count": 3,
     "metadata": {},
     "output_type": "execute_result"
    },
    {
     "data": {
      "image/png": "[encoded data removed]",
      "text/plain": [
       "<Figure size 432x288 with 1 Axes>"
      ]
     },
     "metadata": {},
     "output_type": "display_data"
    }
   ],
   "source": [
    "log_file = './results/simple_population_dynamics/exp_1/test_logs/3/log.txt'\n",
    "prey_num = []\n",
    "predator_num = []\n",
    "with open(log_file)as fin:\n",
    "    for line in fin:\n",
    "        line = line.split()\n",
    "        #if len(line) == 12:\n",
    "        #    prey_num.append(int(line[9]))\n",
    "        #    predator_num.append(int(line[11]))\n",
    "        #elif len(line) == 10:\n",
    "        prey_num.append(int(line[7]))\n",
    "        predator_num.append(int(line[9]))\n",
    "prey_num = np.array(prey_num)    \n",
    "predator_num = np.array(predator_num)\n",
    "\n",
    "plt.plot(prey_num)\n",
    "plt.plot(predator_num)"
   ]
  },
  {
   "cell_type": "code",
   "execution_count": 5,
   "metadata": {},
   "outputs": [
    {
     "name": "stdout",
     "output_type": "stream",
     "text": [
      "899\n"
     ]
    }
   ],
   "source": [
    "# dat = {'N': 2,\n",
    "#     'ts': [3.70819294299116, 4.98911472926553],\n",
    "#     'y_init': [6.3344079550739476, 5.93334017268872],\n",
    "#     'y': [[3.1265750792953506, 0.45494492391993857],\n",
    "#           [1.5550498489338422, 2.7987109819349936]]}\n",
    "\n",
    "# fit = sm.sampling(data=dat, iter=1000, chains=4)\n",
    "N = len(prey_num[1000:10000:10])-1\n",
    "ts = list(range(1,N+1))\n",
    "print(N)\n",
    "\n",
    "len(prey_num[1001:10000:10])\n",
    "\n",
    "dat = {'N': N,\n",
    "    'ts': ts,\n",
    "    'y_init': [float(prey_num[0]), float(predator_num[0])],\n",
    "    'y': np.array([prey_num[1:10000].astype(float), predator_num[1:10000]]).T.tolist()}"
   ]
  },
  {
   "cell_type": "code",
   "execution_count": null,
   "metadata": {},
   "outputs": [
    {
     "name": "stderr",
     "output_type": "stream",
     "text": [
      "Process ForkPoolWorker-119:\n",
      "Process ForkPoolWorker-121:\n",
      "Process ForkPoolWorker-120:\n",
      "Process ForkPoolWorker-125:\n",
      "Process ForkPoolWorker-122:\n",
      "Process ForkPoolWorker-118:\n",
      "Process ForkPoolWorker-124:\n",
      "Process ForkPoolWorker-123:\n",
      "Traceback (most recent call last):\n",
      "Traceback (most recent call last):\n",
      "Traceback (most recent call last):\n",
      "Traceback (most recent call last):\n",
      "Traceback (most recent call last):\n",
      "  File \"/usr/lib/python3.5/multiprocessing/process.py\", line 249, in _bootstrap\n",
      "    self.run()\n",
      "Traceback (most recent call last):\n",
      "  File \"/usr/lib/python3.5/multiprocessing/process.py\", line 249, in _bootstrap\n",
      "    self.run()\n",
      "Traceback (most recent call last):\n",
      "  File \"/usr/lib/python3.5/multiprocessing/process.py\", line 249, in _bootstrap\n",
      "    self.run()\n",
      "Traceback (most recent call last):\n",
      "  File \"/usr/lib/python3.5/multiprocessing/process.py\", line 249, in _bootstrap\n",
      "    self.run()\n",
      "  File \"/usr/lib/python3.5/multiprocessing/process.py\", line 249, in _bootstrap\n",
      "    self.run()\n",
      "  File \"/usr/lib/python3.5/multiprocessing/process.py\", line 249, in _bootstrap\n",
      "    self.run()\n",
      "  File \"/usr/lib/python3.5/multiprocessing/process.py\", line 93, in run\n",
      "    self._target(*self._args, **self._kwargs)\n",
      "  File \"/usr/lib/python3.5/multiprocessing/process.py\", line 93, in run\n",
      "    self._target(*self._args, **self._kwargs)\n",
      "  File \"/usr/lib/python3.5/multiprocessing/pool.py\", line 108, in worker\n",
      "    task = get()\n",
      "  File \"/usr/lib/python3.5/multiprocessing/process.py\", line 93, in run\n",
      "    self._target(*self._args, **self._kwargs)\n",
      "  File \"/usr/lib/python3.5/multiprocessing/process.py\", line 249, in _bootstrap\n",
      "    self.run()\n",
      "  File \"/usr/lib/python3.5/multiprocessing/process.py\", line 93, in run\n",
      "    self._target(*self._args, **self._kwargs)\n",
      "  File \"/usr/lib/python3.5/multiprocessing/process.py\", line 93, in run\n",
      "    self._target(*self._args, **self._kwargs)\n",
      "  File \"/usr/lib/python3.5/multiprocessing/pool.py\", line 108, in worker\n",
      "    task = get()\n",
      "  File \"/usr/lib/python3.5/multiprocessing/process.py\", line 93, in run\n",
      "    self._target(*self._args, **self._kwargs)\n",
      "  File \"/usr/lib/python3.5/multiprocessing/process.py\", line 249, in _bootstrap\n",
      "    self.run()\n",
      "  File \"/usr/lib/python3.5/multiprocessing/queues.py\", line 342, in get\n",
      "    with self._rlock:\n",
      "  File \"/usr/lib/python3.5/multiprocessing/queues.py\", line 343, in get\n",
      "    res = self._reader.recv_bytes()\n",
      "  File \"/usr/lib/python3.5/multiprocessing/synchronize.py\", line 96, in __enter__\n",
      "    return self._semlock.__enter__()\n",
      "  File \"/usr/lib/python3.5/multiprocessing/process.py\", line 93, in run\n",
      "    self._target(*self._args, **self._kwargs)\n",
      "  File \"/usr/lib/python3.5/multiprocessing/pool.py\", line 108, in worker\n",
      "    task = get()\n",
      "  File \"/usr/lib/python3.5/multiprocessing/pool.py\", line 108, in worker\n",
      "    task = get()\n",
      "  File \"/usr/lib/python3.5/multiprocessing/pool.py\", line 108, in worker\n",
      "    task = get()\n",
      "  File \"/usr/lib/python3.5/multiprocessing/pool.py\", line 108, in worker\n",
      "    task = get()\n",
      "  File \"/usr/lib/python3.5/multiprocessing/process.py\", line 93, in run\n",
      "    self._target(*self._args, **self._kwargs)\n",
      "  File \"/usr/lib/python3.5/multiprocessing/connection.py\", line 216, in recv_bytes\n",
      "    buf = self._recv_bytes(maxlength)\n",
      "  File \"/usr/lib/python3.5/multiprocessing/connection.py\", line 407, in _recv_bytes\n",
      "    buf = self._recv(4)\n",
      "  File \"/usr/lib/python3.5/multiprocessing/connection.py\", line 379, in _recv\n",
      "    chunk = read(handle, remaining)\n",
      "KeyboardInterrupt\n",
      "KeyboardInterrupt\n",
      "  File \"/usr/lib/python3.5/multiprocessing/queues.py\", line 342, in get\n",
      "    with self._rlock:\n",
      "  File \"/usr/lib/python3.5/multiprocessing/pool.py\", line 108, in worker\n",
      "    task = get()\n",
      "  File \"/usr/lib/python3.5/multiprocessing/queues.py\", line 342, in get\n",
      "    with self._rlock:\n",
      "  File \"/usr/lib/python3.5/multiprocessing/pool.py\", line 108, in worker\n",
      "    task = get()\n",
      "  File \"/usr/lib/python3.5/multiprocessing/queues.py\", line 342, in get\n",
      "    with self._rlock:\n",
      "  File \"/usr/lib/python3.5/multiprocessing/queues.py\", line 342, in get\n",
      "    with self._rlock:\n",
      "  File \"/usr/lib/python3.5/multiprocessing/synchronize.py\", line 96, in __enter__\n",
      "    return self._semlock.__enter__()\n",
      "  File \"/usr/lib/python3.5/multiprocessing/queues.py\", line 342, in get\n",
      "    with self._rlock:\n",
      "  File \"/usr/lib/python3.5/multiprocessing/synchronize.py\", line 96, in __enter__\n",
      "    return self._semlock.__enter__()\n",
      "KeyboardInterrupt\n",
      "  File \"/usr/lib/python3.5/multiprocessing/synchronize.py\", line 96, in __enter__\n",
      "    return self._semlock.__enter__()\n",
      "KeyboardInterrupt\n",
      "  File \"/usr/lib/python3.5/multiprocessing/synchronize.py\", line 96, in __enter__\n",
      "    return self._semlock.__enter__()\n",
      "KeyboardInterrupt\n",
      "KeyboardInterrupt\n",
      "  File \"/usr/lib/python3.5/multiprocessing/synchronize.py\", line 96, in __enter__\n",
      "    return self._semlock.__enter__()\n",
      "  File \"/usr/lib/python3.5/multiprocessing/queues.py\", line 342, in get\n",
      "    with self._rlock:\n",
      "KeyboardInterrupt\n",
      "  File \"/usr/lib/python3.5/multiprocessing/synchronize.py\", line 96, in __enter__\n",
      "    return self._semlock.__enter__()\n",
      "KeyboardInterrupt\n"
     ]
    }
   ],
   "source": [
    "fit = sm.sampling(data=dat, iter=1000, chains=4)"
   ]
  },
  {
   "cell_type": "code",
   "execution_count": null,
   "metadata": {},
   "outputs": [],
   "source": [
    "print(fit)"
   ]
  },
  {
   "cell_type": "code",
   "execution_count": null,
   "metadata": {},
   "outputs": [],
   "source": []
  }
 ],
 "metadata": {
  "kernelspec": {
   "display_name": "Python 3",
   "language": "python",
   "name": "python3"
  },
  "language_info": {
   "codemirror_mode": {
    "name": "ipython",
    "version": 3
   },
   "file_extension": ".py",
   "mimetype": "text/x-python",
   "name": "python",
   "nbconvert_exporter": "python",
   "pygments_lexer": "ipython3",
   "version": "3.5.2"
  }
 },
 "nbformat": 4,
 "nbformat_minor": 2
}
