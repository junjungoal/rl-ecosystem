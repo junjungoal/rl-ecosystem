{
 "cells": [
  {
   "cell_type": "code",
   "execution_count": 16,
   "metadata": {},
   "outputs": [],
   "source": [
    "import numpy as np\n",
    "import pylab as p\n",
    "from scipy import integrate\n",
    "import matplotlib.pyplot as plt\n",
    "import seaborn as sns\n",
    "from utils import plot_dynamics, plot_circle\n",
    "from rpy2.robjects import FloatVector\n",
    "from rpy2 import robjects\n",
    "from rpy2.robjects.packages import importr\n",
    "stats = importr('stats')\n",
    "base = importr('base')"
   ]
  },
  {
   "cell_type": "code",
   "execution_count": 17,
   "metadata": {},
   "outputs": [],
   "source": [
    "log_file = './results/simple_population_dynamics/exp_1/test_logs/3/log.txt'\n",
    "prey_num = []\n",
    "predator_num = []\n",
    "with open(log_file)as fin:\n",
    "    for line in fin:\n",
    "        line = line.split()\n",
    "        #if len(line) == 12:\n",
    "        #    prey_num.append(int(line[9]))\n",
    "        #    predator_num.append(int(line[11]))\n",
    "        #elif len(line) == 10:\n",
    "        prey_num.append(int(line[7]))\n",
    "        predator_num.append(int(line[9]))\n",
    "prey_num = np.array(prey_num[1000:])    \n",
    "predator_num = np.array(predator_num[1000:])"
   ]
  },
  {
   "cell_type": "code",
   "execution_count": 11,
   "metadata": {},
   "outputs": [],
   "source": [
    "# n = len(prey_num)\n",
    "# dxdt = ((prey_num[2:n-1]-prey_num[:(n-3)])/2) - prey_num[1:(n-2)]*0.006\n",
    "# dydt = ((predator_num[2:n-1]-predator_num[:(n-3)])/2) + predator_num[1:(n-2)]*0.003\n",
    "\n",
    "# prey_num = prey_num.reshape((-1, 1))\n",
    "# predator_num = predator_num.reshape((-1, 1))\n",
    "\n",
    "# # input_x = np.concatenate([prey_num[1:(n-2)], prey_num[1:(n-2)]*predator_num[1:(n-2)]], axis=1)\n",
    "# # input_y = np.concatenate([predator_num[1:(n-2)], prey_num[1:(n-2)]*predator_num[1:(n-2)]], axis=1)\n",
    "# dydt = dydt.reshape(-1, 1)\n",
    "# dxdt = dxdt.reshape(-1, 1)\n",
    "# input_x = prey_num[1:(n-2)].reshape(-1, 1)\n",
    "# input_y = predator_num[1:(n-2)].reshape(-1, 1)\n",
    "# from sklearn import linear_model\n",
    "# reg = linear_model.LinearRegression(fit_intercept=True)\n",
    "# reg.fit(dxdt, input_x)\n",
    "\n",
    "# reg2 = linear_model.LinearRegression(fit_intercept=True)\n",
    "# reg2.fit(dydt, input_y)\n",
    "\n"
   ]
  },
  {
   "cell_type": "code",
   "execution_count": 12,
   "metadata": {},
   "outputs": [
    {
     "data": {
      "text/plain": [
       "array([163, 164, 163, ...,  73,  73,  73])"
      ]
     },
     "execution_count": 12,
     "metadata": {},
     "output_type": "execute_result"
    }
   ],
   "source": [
    "prey_num"
   ]
  },
  {
   "cell_type": "code",
   "execution_count": 19,
   "metadata": {},
   "outputs": [
    {
     "data": {
      "text/plain": [
       "Ridge(alpha=1e-08, copy_X=True, fit_intercept=True, max_iter=None,\n",
       "      normalize=False, random_state=None, solver='auto', tol=0.001)"
      ]
     },
     "execution_count": 19,
     "metadata": {},
     "output_type": "execute_result"
    }
   ],
   "source": [
    "n = len(prey_num)\n",
    "dxdtx = (1/prey_num[1:n-2])*((prey_num[2:(n-1)]-prey_num[0:(n-3)])/2)\n",
    "dydty = (1/predator_num[1:n-2])*((predator_num[2:n-1]-predator_num[0:(n-3)])/2)\n",
    "# print(dxdtx)\n",
    "\n",
    "# dxdtx = FloatVector(dxdtx)\n",
    "# dydty = FloatVector(dydty)\n",
    "\n",
    "# prey_num = FloatVector(prey_num[1:(n-2)])\n",
    "# predator_num = FloatVector(predator_num[1:(n-2)])\n",
    "\n",
    "# robjects.globalenv['dxdtx'] = dxdtx\n",
    "# robjects.globalenv['prey_num'] = prey_num\n",
    "# robjects.globalenv['dydty'] = dydty\n",
    "# robjects.globalenv['predator_num'] = predator_num\n",
    "\n",
    "\n",
    "# reg = stats.lm('dxdtx ~ prey_num')\n",
    "# reg2 = stats.lm('dydty ~ predator_num')\n",
    "\n",
    "prey_num = prey_num.reshape(-1, 1)\n",
    "predator_num = predator_num.reshape(-1, 1)\n",
    "dydty = dydty.reshape(-1, 1)\n",
    "dxdtx = dxdtx.reshape(-1, 1)\n",
    "\n",
    "from sklearn import linear_model\n",
    "from sklearn.linear_model import Ridge\n",
    "reg = Ridge(alpha=1e-8)\n",
    "reg.fit(dxdtx, prey_num[1:(n-2)])\n",
    "\n",
    "reg2 = Ridge(alpha=1e-8)\n",
    "reg2.fit(dydty, predator_num[1:(n-2)])\n",
    "\n"
   ]
  },
  {
   "cell_type": "code",
   "execution_count": 20,
   "metadata": {},
   "outputs": [
    {
     "data": {
      "text/plain": [
       "array([[223.23999706]])"
      ]
     },
     "execution_count": 20,
     "metadata": {},
     "output_type": "execute_result"
    }
   ],
   "source": [
    "reg.coef_"
   ]
  },
  {
   "cell_type": "code",
   "execution_count": 15,
   "metadata": {},
   "outputs": [
    {
     "name": "stdout",
     "output_type": "stream",
     "text": [
      "1.95321e-05 0.008194703 0.00446544 0.005341619\n"
     ]
    }
   ],
   "source": [
    "# a = 1.953210e-05\n",
    "# b = 8.194703e-03\n",
    "# c = 4.465440e-03\n",
    "# d = 5.341619e-03\n",
    "\n",
    "print(a, b, c, d)"
   ]
  },
  {
   "cell_type": "code",
   "execution_count": 22,
   "metadata": {},
   "outputs": [],
   "source": [
    "# Definition of parameters\n",
    "def dX_dt(X, t=0):\n",
    "    \"\"\" Return the growth rate of fox and rabbit populations. \"\"\"\n",
    "    return np.array([a*X[0] -   b*X[0]*X[1],\n",
    "                  -c*X[1] + d*X[0]*X[1]])\n"
   ]
  },
  {
   "cell_type": "code",
   "execution_count": null,
   "metadata": {},
   "outputs": [],
   "source": []
  },
  {
   "cell_type": "code",
   "execution_count": 23,
   "metadata": {},
   "outputs": [
    {
     "data": {
      "text/plain": [
       "'Integration successful.'"
      ]
     },
     "execution_count": 23,
     "metadata": {},
     "output_type": "execute_result"
    }
   ],
   "source": [
    "t = np.linspace(0, 10000, 10000)              # time\n",
    "X0 = np.array([1000, 1000])                     # initials conditions: 10 rabbits and 5 foxes\n",
    "X, infodict = integrate.odeint(dX_dt, X0, t, full_output=True)\n",
    "infodict['message']         "
   ]
  },
  {
   "cell_type": "code",
   "execution_count": 276,
   "metadata": {
    "scrolled": true
   },
   "outputs": [
    {
     "data": {
      "image/png": "[encoded data removed]",
      "text/plain": [
       "<Figure size 1296x432 with 1 Axes>"
      ]
     },
     "metadata": {},
     "output_type": "display_data"
    }
   ],
   "source": [
    "rabbits, foxes = X.T\n",
    "f1 = p.figure(figsize=(18, 6))\n",
    "p.plot(t, rabbits, 'r-', label='Prey')\n",
    "p.plot(t, foxes  , 'b-', label='Predator')\n",
    "p.grid()\n",
    "p.legend(loc='best')\n",
    "p.xlabel('time')\n",
    "p.ylabel('population')\n",
    "p.title('Evolution of fox and rabbit populations')\n",
    "f1.savefig('rabbits_and_foxes_1.png')"
   ]
  },
  {
   "cell_type": "code",
   "execution_count": null,
   "metadata": {},
   "outputs": [],
   "source": [
    "plot_dynamics('./results/simple_population_dynamics/exp_2/test_logs/0/log.txt', 0, 60000)"
   ]
  },
  {
   "cell_type": "code",
   "execution_count": null,
   "metadata": {},
   "outputs": [],
   "source": [
    "import csv "
   ]
  },
  {
   "cell_type": "code",
   "execution_count": null,
   "metadata": {},
   "outputs": [],
   "source": [
    "with open('./results/simple_population_dynamics/exp_2/test_logs/0/log.csv', mode='w') as log:\n",
    "    log_writer = csv.writer(log, delimiter=',', quotechar='\"', quoting=csv.QUOTE_MINIMAL)\n",
    "    for i in range(len(prey_num)):\n",
    "        log_writer.writerow([prey_num[i][0], predator_num[i][0]])\n",
    "    "
   ]
  },
  {
   "cell_type": "code",
   "execution_count": null,
   "metadata": {},
   "outputs": [],
   "source": [
    "prey"
   ]
  }
 ],
 "metadata": {
  "kernelspec": {
   "display_name": "Python 3",
   "language": "python",
   "name": "python3"
  },
  "language_info": {
   "codemirror_mode": {
    "name": "ipython",
    "version": 3
   },
   "file_extension": ".py",
   "mimetype": "text/x-python",
   "name": "python",
   "nbconvert_exporter": "python",
   "pygments_lexer": "ipython3",
   "version": "3.5.2"
  }
 },
 "nbformat": 4,
 "nbformat_minor": 2
}
